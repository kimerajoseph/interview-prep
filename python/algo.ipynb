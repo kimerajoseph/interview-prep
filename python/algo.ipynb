{
 "cells": [
  {
   "cell_type": "markdown",
   "metadata": {},
   "source": [
    "### BINARY TREES"
   ]
  },
  {
   "cell_type": "code",
   "execution_count": 1,
   "metadata": {},
   "outputs": [],
   "source": [
    "from binarytree import Node"
   ]
  },
  {
   "cell_type": "code",
   "execution_count": 2,
   "metadata": {},
   "outputs": [
    {
     "name": "stdout",
     "output_type": "stream",
     "text": [
      "Binary tree : \n",
      "  10\n",
      " /  \\\n",
      "2    5\n",
      "\n"
     ]
    }
   ],
   "source": [
    "root = Node(10)\n",
    "root.left = Node(2)\n",
    "root.right = Node(5)\n",
    "\n",
    "# Getting binary tree\n",
    "print('Binary tree :', root)\n",
    "  \n",
    "# # Getting list of nodes\n",
    "# print('List of nodes :', list(root))\n",
    "  \n",
    "# # Getting inorder of nodes\n",
    "# print('Inorder of nodes :', root.inorder)\n",
    "  \n",
    "# # Checking tree properties\n",
    "# print('Size of tree :', root.size)\n",
    "# print('Height of tree :', root.height)\n",
    "  \n",
    "# # Get all properties at once\n",
    "# print('Properties of tree : \\n', root.properties)"
   ]
  },
  {
   "cell_type": "code",
   "execution_count": null,
   "metadata": {},
   "outputs": [],
   "source": [
    "root.properties"
   ]
  },
  {
   "cell_type": "code",
   "execution_count": null,
   "metadata": {},
   "outputs": [],
   "source": [
    "root.size"
   ]
  },
  {
   "cell_type": "markdown",
   "metadata": {},
   "source": [
    "### Create a binary tree from a list"
   ]
  },
  {
   "cell_type": "code",
   "execution_count": 6,
   "metadata": {},
   "outputs": [],
   "source": [
    "from binarytree import build"
   ]
  },
  {
   "cell_type": "code",
   "execution_count": 10,
   "metadata": {},
   "outputs": [
    {
     "name": "stdout",
     "output_type": "stream",
     "text": [
      "\n",
      "       __1__\n",
      "      /     \\\n",
      "     2       3\n",
      "    / \\     / \\\n",
      "  _5   6   8   12\n",
      " /\n",
      "17\n",
      "\n"
     ]
    }
   ],
   "source": [
    "bin_list = [1,2,3,5,6,8,12,17]\n",
    "binary_tree = build(bin_list)\n",
    "print(binary_tree)"
   ]
  },
  {
   "cell_type": "code",
   "execution_count": 13,
   "metadata": {},
   "outputs": [
    {
     "data": {
      "text/plain": [
       "[1, 2, 3, 5, 6, 8, 12, 17]"
      ]
     },
     "execution_count": 13,
     "metadata": {},
     "output_type": "execute_result"
    }
   ],
   "source": [
    "binary_tree.values"
   ]
  },
  {
   "cell_type": "code",
   "execution_count": 14,
   "metadata": {},
   "outputs": [],
   "source": [
    "from binarytree import tree"
   ]
  },
  {
   "cell_type": "code",
   "execution_count": 17,
   "metadata": {},
   "outputs": [
    {
     "name": "stdout",
     "output_type": "stream",
     "text": [
      "\n",
      "                     ___________________10___________________\n",
      "                    /                                        \\\n",
      "          _________28________                        _________20________\n",
      "         /                   \\                      /                   \\\n",
      "    ____26___              ___21__              ___18__               ___3__\n",
      "   /         \\            /       \\            /       \\             /      \\\n",
      "  12         _19        _25        23        _27        14         _29       15\n",
      " /  \\       /   \\      /   \\      /  \\      /   \\      /  \\       /   \\     /  \\\n",
      "2    13    17    8    24    9    1    5    16    6    7    22    30    0   4    11\n",
      "\n"
     ]
    }
   ],
   "source": [
    "root = tree(height=4, is_perfect=True)\n",
    "print(root)"
   ]
  },
  {
   "cell_type": "code",
   "execution_count": 18,
   "metadata": {},
   "outputs": [
    {
     "name": "stdout",
     "output_type": "stream",
     "text": [
      "\n",
      "        _________1_______\n",
      "       /                 \\\n",
      "    __13___            ___14__\n",
      "   /       \\          /       \\\n",
      "  3        _10       12        0\n",
      " / \\      /   \\     /  \\      / \\\n",
      "2   7    11    5   8    4    9   6\n",
      "\n"
     ]
    }
   ],
   "source": [
    "root = tree(height=3, is_perfect=True)\n",
    "print(root)"
   ]
  },
  {
   "cell_type": "markdown",
   "metadata": {},
   "source": [
    "## SEARCH ALGORITHM: BINARY SEARCH ALGORITHM"
   ]
  },
  {
   "cell_type": "code",
   "execution_count": 38,
   "metadata": {},
   "outputs": [
    {
     "name": "stdout",
     "output_type": "stream",
     "text": [
      "Element is present at index  15\n"
     ]
    }
   ],
   "source": [
    "# Returns index of x in arr if present, else -1\n",
    "def binarySearch(arr, l, r, x):\n",
    "\n",
    "\t# Check base case\n",
    "\tif r >= l:\n",
    "\n",
    "\t\tmid = l + (r - l) // 2\n",
    "\n",
    "\t\t# If element is present at the middle itself\n",
    "\t\tif arr[mid] == x:\n",
    "\t\t\treturn mid\n",
    "\n",
    "\t\t# If element is smaller than mid, then it\n",
    "\t\t# can only be present in left subarray\n",
    "\t\telif arr[mid] > x:\n",
    "\t\t\treturn binarySearch(arr, l, mid-1, x)\n",
    "\n",
    "\t\t# Else the element can only be present\n",
    "\t\t# in right subarray\n",
    "\t\telse:\n",
    "\t\t\treturn binarySearch(arr, mid + 1, r, x)\n",
    "\n",
    "\telse:\n",
    "\t\t# Element is not present in the array\n",
    "\t\treturn -1\n",
    "\n",
    "\n",
    "# Driver Code\n",
    "#arr = [2, 3, 4, 10, 40]\n",
    "arr = [1,4,5,8,10,13,17,20,32,40,45,53,56,57,59,63]\n",
    "x = 63\n",
    "\n",
    "# Function call\n",
    "result = binarySearch(arr, 0, len(arr)-1, x)\n",
    "\n",
    "if result != -1:\n",
    "\tprint(\"Element is present at index % d\" % result)\n",
    "else:\n",
    "\tprint(\"Element is not present in array\")\n"
   ]
  },
  {
   "cell_type": "code",
   "execution_count": 39,
   "metadata": {},
   "outputs": [
    {
     "name": "stdout",
     "output_type": "stream",
     "text": [
      "Element is present at index  15\n"
     ]
    }
   ],
   "source": [
    "def my_binary_search(arr, min, max, x):\n",
    "    if max >= min:\n",
    "        mid = min + (max - min) // 2\n",
    "        #return mid\n",
    "\n",
    "        if arr[mid] == x:\n",
    "            return mid\n",
    "\n",
    "        elif arr[mid] > x:\n",
    "            return my_binary_search(arr, min, mid-1,x)\n",
    "        \n",
    "\n",
    "        else:\n",
    "            return my_binary_search(arr,mid+1, max, x)\n",
    "\n",
    "    else:\n",
    "        return -1\n",
    "\n",
    "arr = [1,4,5,8,10,13,17,20,32,40,45,53,56,57,59,63]\n",
    "result = my_binary_search(arr,0,len(arr)-1,63)\n",
    "\n",
    "if result != -1:\n",
    "\tprint(\"Element is present at index % d\" % result)\n",
    "else:\n",
    "\tprint(\"Element is not present in array\")\n",
    "        "
   ]
  },
  {
   "cell_type": "code",
   "execution_count": null,
   "metadata": {},
   "outputs": [],
   "source": []
  }
 ],
 "metadata": {
  "kernelspec": {
   "display_name": "Python 3.9.13 ('mlenv')",
   "language": "python",
   "name": "python3"
  },
  "language_info": {
   "codemirror_mode": {
    "name": "ipython",
    "version": 3
   },
   "file_extension": ".py",
   "mimetype": "text/x-python",
   "name": "python",
   "nbconvert_exporter": "python",
   "pygments_lexer": "ipython3",
   "version": "3.9.13"
  },
  "orig_nbformat": 4,
  "vscode": {
   "interpreter": {
    "hash": "8f708bf5486be2196cd32792a5d278c08adb215f990ef34c74470ab4db6eb3c5"
   }
  }
 },
 "nbformat": 4,
 "nbformat_minor": 2
}
